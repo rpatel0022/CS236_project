{
  "cells": [
    {
      "cell_type": "markdown",
      "id": "50f2a609-3992-41a1-998b-9287a8574692",
      "metadata": {
        "id": "50f2a609-3992-41a1-998b-9287a8574692"
      },
      "source": [
        "# PySpark session"
      ]
    },
    {
      "cell_type": "code",
      "execution_count": 1,
      "id": "8dddb65b-b4a3-4b9f-acbe-b30349a6ad9e",
      "metadata": {
        "id": "8dddb65b-b4a3-4b9f-acbe-b30349a6ad9e"
      },
      "outputs": [],
      "source": [
        "import os\n",
        "from pyspark.sql import SparkSession"
      ]
    },
    {
      "cell_type": "code",
      "metadata": {
        "id": "683cf1e-232f-45c2-b269-c5e98a34ccaf"
      },
      "source": [
        "# Install OpenJDK\n",
        "!apt-get install openjdk-17-jdk-headless -qq > /dev/null\n",
        "\n",
        "# Set JAVA_HOME and PATH\n",
        "os.environ[\"JAVA_HOME\"] = \"/usr/lib/jvm/java-17-openjdk-amd64\"\n",
        "os.environ[\"PATH\"] = f\"/usr/lib/jvm/java-17-openjdk-amd64/bin:{os.environ['PATH']}\"\n",
        "\n",
        "spark = SparkSession.builder.getOrCreate()"
      ],
      "id": "683cf1e-232f-45c2-b269-c5e98a34ccaf",
      "execution_count": 2,
      "outputs": []
    },
    {
      "cell_type": "markdown",
      "id": "ff9faaee-cc6a-4dae-bb35-c2f31f2a7530",
      "metadata": {
        "id": "ff9faaee-cc6a-4dae-bb35-c2f31f2a7530"
      },
      "source": [
        "# EDA utility functions"
      ]
    },
    {
      "cell_type": "code",
      "execution_count": 3,
      "id": "6ee1806b-e282-4362-a211-81fd8a4eea21",
      "metadata": {
        "id": "6ee1806b-e282-4362-a211-81fd8a4eea21"
      },
      "outputs": [],
      "source": [
        "from pyspark.sql import DataFrame, functions as F\n",
        "\n",
        "def basic_info(df, name):\n",
        "    print(f\"\\n=== {name} ===\")\n",
        "    print(\"Row count:\", df.count())\n",
        "    df.printSchema()\n",
        "\n",
        "\n",
        "def null_counts(df, name):\n",
        "    print(f\"\\n--- Null Value Counts: {name} ---\")\n",
        "    df.select(\n",
        "        [F.count(F.when(F.col(c).isNull(), c)).alias(c) for c in df.columns]\n",
        "    ).show(truncate=False)\n",
        "\n",
        "\n",
        "def distinct_values(df, cols, name):\n",
        "    print(f\"\\n--- Distinct Values: {name} ---\")\n",
        "    for c in cols:\n",
        "        if c in df.columns:\n",
        "            print(f\"\\nColumn: {c}\")\n",
        "            df.groupBy(c).count().orderBy(\"count\", ascending=False).show(\n",
        "                10, truncate=False\n",
        "            )\n",
        "\n",
        "def numeric_summary(df, cols, name):\n",
        "    print(f\"\\n--- Numeric Summary: {name} ---\")\n",
        "    for c in cols:\n",
        "        if c in df.columns:\n",
        "            print(f\"\\nColumn: {c}\")\n",
        "            df.describe([c]).show()\n",
        "\n",
        "def compare_cols(col1, col2):\n",
        "    return set(col1) == set(col2)"
      ]
    },
    {
      "cell_type": "code",
      "execution_count": 6,
      "id": "9c0e3a04-b59c-4363-9f13-ec87a1fb90dd",
      "metadata": {
        "id": "9c0e3a04-b59c-4363-9f13-ec87a1fb90dd"
      },
      "outputs": [],
      "source": [
        "reservations = spark.read.option(\"header\", True).csv(\n",
        "    \"/data/raw/customer-reservations.csv\", inferSchema=True\n",
        ")\n",
        "bookings = spark.read.option(\"header\", True).csv(\n",
        "    \"/data/raw/hotel-booking.csv\", inferSchema=True\n",
        ")"
      ]
    },
    {
      "cell_type": "markdown",
      "id": "8d01ca74-6ddf-4ef2-9276-42d201d0c5aa",
      "metadata": {
        "id": "8d01ca74-6ddf-4ef2-9276-42d201d0c5aa"
      },
      "source": [
        "# Basic Info"
      ]
    },
    {
      "cell_type": "code",
      "execution_count": 7,
      "id": "a1f44486-7154-4f37-be8c-ee4d7da88fcb",
      "metadata": {
        "colab": {
          "base_uri": "https://localhost:8080/"
        },
        "id": "a1f44486-7154-4f37-be8c-ee4d7da88fcb",
        "outputId": "38e0097f-30c6-43e8-f2cc-8657ee5731ae"
      },
      "outputs": [
        {
          "output_type": "stream",
          "name": "stdout",
          "text": [
            "\n",
            "=== Customer Reservations ===\n",
            "Row count: 36275\n",
            "root\n",
            " |-- Booking_ID: string (nullable = true)\n",
            " |-- stays_in_weekend_nights: integer (nullable = true)\n",
            " |-- stays_in_week_nights: integer (nullable = true)\n",
            " |-- lead_time: integer (nullable = true)\n",
            " |-- arrival_year: integer (nullable = true)\n",
            " |-- arrival_month: integer (nullable = true)\n",
            " |-- arrival_date: integer (nullable = true)\n",
            " |-- market_segment_type: string (nullable = true)\n",
            " |-- avg_price_per_room: double (nullable = true)\n",
            " |-- booking_status: string (nullable = true)\n",
            "\n",
            "\n",
            "=== Hotel Bookings ===\n",
            "Row count: 78703\n",
            "root\n",
            " |-- hotel: string (nullable = true)\n",
            " |-- booking_status: integer (nullable = true)\n",
            " |-- lead_time: integer (nullable = true)\n",
            " |-- arrival_year: integer (nullable = true)\n",
            " |-- arrival_month: string (nullable = true)\n",
            " |-- arrival_date_week_number: integer (nullable = true)\n",
            " |-- arrival_date_day_of_month: integer (nullable = true)\n",
            " |-- stays_in_weekend_nights: integer (nullable = true)\n",
            " |-- stays_in_week_nights: integer (nullable = true)\n",
            " |-- market_segment_type: string (nullable = true)\n",
            " |-- country: string (nullable = true)\n",
            " |-- avg_price_per_room: double (nullable = true)\n",
            " |-- email: string (nullable = true)\n",
            "\n"
          ]
        }
      ],
      "source": [
        "basic_info(reservations, \"Customer Reservations\")\n",
        "basic_info(bookings, \"Hotel Bookings\")"
      ]
    },
    {
      "cell_type": "markdown",
      "id": "bf22efcf-b488-4fc1-b7ef-581a9199e2d3",
      "metadata": {
        "id": "bf22efcf-b488-4fc1-b7ef-581a9199e2d3"
      },
      "source": [
        "# Null Counts"
      ]
    },
    {
      "cell_type": "code",
      "execution_count": 8,
      "id": "bc5ec094-ad27-4568-abfb-9aa3073ac94a",
      "metadata": {
        "colab": {
          "base_uri": "https://localhost:8080/"
        },
        "id": "bc5ec094-ad27-4568-abfb-9aa3073ac94a",
        "outputId": "4fb4b10d-c19e-466d-c72e-b0ee3fdaa569"
      },
      "outputs": [
        {
          "output_type": "stream",
          "name": "stdout",
          "text": [
            "\n",
            "--- Null Value Counts: Customer Reservations ---\n",
            "+----------+-----------------------+--------------------+---------+------------+-------------+------------+-------------------+------------------+--------------+\n",
            "|Booking_ID|stays_in_weekend_nights|stays_in_week_nights|lead_time|arrival_year|arrival_month|arrival_date|market_segment_type|avg_price_per_room|booking_status|\n",
            "+----------+-----------------------+--------------------+---------+------------+-------------+------------+-------------------+------------------+--------------+\n",
            "|0         |0                      |0                   |0        |0           |0            |0           |0                  |0                 |0             |\n",
            "+----------+-----------------------+--------------------+---------+------------+-------------+------------+-------------------+------------------+--------------+\n",
            "\n",
            "\n",
            "--- Null Value Counts: Hotel Bookings ---\n",
            "+-----+--------------+---------+------------+-------------+------------------------+-------------------------+-----------------------+--------------------+-------------------+-------+------------------+-----+\n",
            "|hotel|booking_status|lead_time|arrival_year|arrival_month|arrival_date_week_number|arrival_date_day_of_month|stays_in_weekend_nights|stays_in_week_nights|market_segment_type|country|avg_price_per_room|email|\n",
            "+-----+--------------+---------+------------+-------------+------------------------+-------------------------+-----------------------+--------------------+-------------------+-------+------------------+-----+\n",
            "|0    |0             |0        |0           |0            |0                       |0                        |0                      |0                   |0                  |405    |0                 |0    |\n",
            "+-----+--------------+---------+------------+-------------+------------------------+-------------------------+-----------------------+--------------------+-------------------+-------+------------------+-----+\n",
            "\n"
          ]
        }
      ],
      "source": [
        "null_counts(reservations, \"Customer Reservations\")\n",
        "null_counts(bookings, \"Hotel Bookings\")"
      ]
    },
    {
      "cell_type": "markdown",
      "id": "eed123d8-8e67-4c50-8c9e-630c466a45d6",
      "metadata": {
        "id": "eed123d8-8e67-4c50-8c9e-630c466a45d6"
      },
      "source": [
        "# Distinct Values (categorical checks)"
      ]
    },
    {
      "cell_type": "code",
      "execution_count": 9,
      "id": "43bfced3-6255-47eb-8bf6-f6d4db6ec5cf",
      "metadata": {
        "colab": {
          "base_uri": "https://localhost:8080/"
        },
        "id": "43bfced3-6255-47eb-8bf6-f6d4db6ec5cf",
        "outputId": "645b515a-2e0e-407b-9818-b58ecda2110a"
      },
      "outputs": [
        {
          "output_type": "stream",
          "name": "stdout",
          "text": [
            "\n",
            "--- Distinct Values: Reservations ---\n",
            "\n",
            "Column: booking_status\n",
            "+--------------+-----+\n",
            "|booking_status|count|\n",
            "+--------------+-----+\n",
            "|Not_Canceled  |24390|\n",
            "|Canceled      |11885|\n",
            "+--------------+-----+\n",
            "\n",
            "\n",
            "Column: market_segment_type\n",
            "+-------------------+-----+\n",
            "|market_segment_type|count|\n",
            "+-------------------+-----+\n",
            "|Online             |23214|\n",
            "|Offline            |10528|\n",
            "|Corporate          |2017 |\n",
            "|Complementary      |391  |\n",
            "|Aviation           |125  |\n",
            "+-------------------+-----+\n",
            "\n",
            "\n",
            "--- Distinct Values: Bookings ---\n",
            "\n",
            "Column: booking_status\n",
            "+--------------+-----+\n",
            "|booking_status|count|\n",
            "+--------------+-----+\n",
            "|0             |50224|\n",
            "|1             |28479|\n",
            "+--------------+-----+\n",
            "\n"
          ]
        }
      ],
      "source": [
        "distinct_values(reservations, [\"booking_status\", \"market_segment_type\"], \"Reservations\")\n",
        "distinct_values(bookings, [\"booking_status\", \"market_segment\"], \"Bookings\")"
      ]
    },
    {
      "cell_type": "markdown",
      "id": "9d8d2253-a4dd-4415-aca6-f8598ac088c7",
      "metadata": {
        "id": "9d8d2253-a4dd-4415-aca6-f8598ac088c7"
      },
      "source": [
        "# Numeric Summaries"
      ]
    },
    {
      "cell_type": "code",
      "execution_count": 10,
      "id": "ae5699dd-7f06-4357-bd9a-effa6702f16b",
      "metadata": {
        "colab": {
          "base_uri": "https://localhost:8080/"
        },
        "id": "ae5699dd-7f06-4357-bd9a-effa6702f16b",
        "outputId": "149a0b15-c59a-46dc-c462-f4f767225e12"
      },
      "outputs": [
        {
          "output_type": "stream",
          "name": "stdout",
          "text": [
            "\n",
            "--- Numeric Summary: Reservations ---\n",
            "\n",
            "Column: lead_time\n",
            "+-------+-----------------+\n",
            "|summary|        lead_time|\n",
            "+-------+-----------------+\n",
            "|  count|            36275|\n",
            "|   mean|85.23255685733976|\n",
            "| stddev|85.93081669923292|\n",
            "|    min|                0|\n",
            "|    max|              443|\n",
            "+-------+-----------------+\n",
            "\n",
            "\n",
            "Column: avg_price_per_room\n",
            "+-------+------------------+\n",
            "|summary|avg_price_per_room|\n",
            "+-------+------------------+\n",
            "|  count|             36275|\n",
            "|   mean| 103.4235390764958|\n",
            "| stddev| 35.08942403637024|\n",
            "|    min|               0.0|\n",
            "|    max|             540.0|\n",
            "+-------+------------------+\n",
            "\n",
            "\n",
            "--- Numeric Summary: Bookings ---\n",
            "\n",
            "Column: lead_time\n",
            "+-------+------------------+\n",
            "|summary|         lead_time|\n",
            "+-------+------------------+\n",
            "|  count|             78703|\n",
            "|   mean|101.29846384508849|\n",
            "| stddev|106.20064931641456|\n",
            "|    min|                 0|\n",
            "|    max|               737|\n",
            "+-------+------------------+\n",
            "\n",
            "\n",
            "Column: avg_price_per_room\n",
            "+-------+------------------+\n",
            "|summary|avg_price_per_room|\n",
            "+-------+------------------+\n",
            "|  count|             78703|\n",
            "|   mean| 95.21039007407275|\n",
            "| stddev| 48.30988225899252|\n",
            "|    min|               0.0|\n",
            "|    max|            5400.0|\n",
            "+-------+------------------+\n",
            "\n"
          ]
        }
      ],
      "source": [
        "numeric_summary(reservations, [\"lead_time\", \"avg_price_per_room\"], \"Reservations\")\n",
        "numeric_summary(bookings, [\"lead_time\", \"avg_price_per_room\"], \"Bookings\")"
      ]
    },
    {
      "cell_type": "markdown",
      "id": "b31af7b2-932b-4ee3-a903-f9228810bfff",
      "metadata": {
        "id": "b31af7b2-932b-4ee3-a903-f9228810bfff"
      },
      "source": [
        "# Reservation Graphs"
      ]
    },
    {
      "cell_type": "code",
      "execution_count": 11,
      "id": "24f5f2c2-8d9c-42de-b9c6-ab609ed10989",
      "metadata": {
        "id": "24f5f2c2-8d9c-42de-b9c6-ab609ed10989"
      },
      "outputs": [],
      "source": [
        "res_pd = reservations.toPandas()"
      ]
    },
    {
      "cell_type": "code",
      "execution_count": 12,
      "id": "bd01181d-98c2-4c71-b39c-df8cce6c3d65",
      "metadata": {
        "colab": {
          "base_uri": "https://localhost:8080/",
          "height": 447
        },
        "id": "bd01181d-98c2-4c71-b39c-df8cce6c3d65",
        "outputId": "2e64cfbb-2624-4909-bbb2-498e0fd2a771"
      },
      "outputs": [
        {
          "output_type": "execute_result",
          "data": {
            "text/plain": [
              "<Axes: >"
            ]
          },
          "metadata": {},
          "execution_count": 12
        },
        {
          "output_type": "display_data",
          "data": {
            "text/plain": [
              "<Figure size 640x480 with 1 Axes>"
            ],
            "image/png": "[encoded data removed]"
          },
          "metadata": {}
        }
      ],
      "source": [
        "res_pd[\"lead_time\"].hist()"
      ]
    },
    {
      "cell_type": "code",
      "execution_count": 13,
      "id": "aa0741ba-e659-483c-b543-c545e1d387f2",
      "metadata": {
        "colab": {
          "base_uri": "https://localhost:8080/",
          "height": 447
        },
        "id": "aa0741ba-e659-483c-b543-c545e1d387f2",
        "outputId": "59e10557-b069-4d44-ad57-c3e304e30190"
      },
      "outputs": [
        {
          "output_type": "execute_result",
          "data": {
            "text/plain": [
              "<Axes: >"
            ]
          },
          "metadata": {},
          "execution_count": 13
        },
        {
          "output_type": "display_data",
          "data": {
            "text/plain": [
              "<Figure size 640x480 with 1 Axes>"
            ],
            "image/png": "[encoded data removed]"
          },
          "metadata": {}
        }
      ],
      "source": [
        "res_pd[\"avg_price_per_room\"].hist(bins=150)"
      ]
    },
    {
      "cell_type": "code",
      "execution_count": 14,
      "id": "e87c8827-2615-43ca-8b81-b2ad290d456a",
      "metadata": {
        "colab": {
          "base_uri": "https://localhost:8080/",
          "height": 447
        },
        "id": "e87c8827-2615-43ca-8b81-b2ad290d456a",
        "outputId": "ca040a25-354b-4072-f32e-b8cca7835c19"
      },
      "outputs": [
        {
          "output_type": "execute_result",
          "data": {
            "text/plain": [
              "<Axes: >"
            ]
          },
          "metadata": {},
          "execution_count": 14
        },
        {
          "output_type": "display_data",
          "data": {
            "text/plain": [
              "<Figure size 640x480 with 1 Axes>"
            ],
            "image/png": "[encoded data removed]"
          },
          "metadata": {}
        }
      ],
      "source": [
        "res_pd[\"arrival_month\"].hist(bins=12)"
      ]
    },
    {
      "cell_type": "code",
      "execution_count": 15,
      "id": "b1043318-d846-4a2d-a363-6b18b9cff6be",
      "metadata": {
        "colab": {
          "base_uri": "https://localhost:8080/",
          "height": 448
        },
        "id": "b1043318-d846-4a2d-a363-6b18b9cff6be",
        "outputId": "fbb66bf5-08d7-471e-930f-ebd092d8f5d9"
      },
      "outputs": [
        {
          "output_type": "execute_result",
          "data": {
            "text/plain": [
              "<Axes: >"
            ]
          },
          "metadata": {},
          "execution_count": 15
        },
        {
          "output_type": "display_data",
          "data": {
            "text/plain": [
              "<Figure size 640x480 with 1 Axes>"
            ],
            "image/png": "[encoded data removed]"
          },
          "metadata": {}
        }
      ],
      "source": [
        "res_pd[\"stays_in_week_nights\"].hist()"
      ]
    },
    {
      "cell_type": "code",
      "execution_count": 16,
      "id": "b4a58743-92da-47e2-a2b5-bc4cb7dae20c",
      "metadata": {
        "colab": {
          "base_uri": "https://localhost:8080/",
          "height": 447
        },
        "id": "b4a58743-92da-47e2-a2b5-bc4cb7dae20c",
        "outputId": "65e06e99-1f13-43fa-c923-d58db22b754a"
      },
      "outputs": [
        {
          "output_type": "execute_result",
          "data": {
            "text/plain": [
              "<Axes: >"
            ]
          },
          "metadata": {},
          "execution_count": 16
        },
        {
          "output_type": "display_data",
          "data": {
            "text/plain": [
              "<Figure size 640x480 with 1 Axes>"
            ],
            "image/png": "[encoded data removed]"
          },
          "metadata": {}
        }
      ],
      "source": [
        "res_pd[\"stays_in_weekend_nights\"].hist()"
      ]
    },
    {
      "cell_type": "markdown",
      "id": "7098e3ef-2ecc-4780-af1d-60d693de2943",
      "metadata": {
        "id": "7098e3ef-2ecc-4780-af1d-60d693de2943"
      },
      "source": [
        "# Booking Graphs"
      ]
    },
    {
      "cell_type": "code",
      "execution_count": 17,
      "id": "f205c9ef-b36c-4913-8981-56a1808b5d6c",
      "metadata": {
        "id": "f205c9ef-b36c-4913-8981-56a1808b5d6c"
      },
      "outputs": [],
      "source": [
        "booking_pd = bookings.toPandas()"
      ]
    },
    {
      "cell_type": "code",
      "execution_count": 18,
      "id": "dd5deda3-3001-41ce-a614-11c66803db8e",
      "metadata": {
        "colab": {
          "base_uri": "https://localhost:8080/",
          "height": 447
        },
        "id": "dd5deda3-3001-41ce-a614-11c66803db8e",
        "outputId": "4c2ca26c-7c4b-47d5-b0e8-5090b6b905b5"
      },
      "outputs": [
        {
          "output_type": "execute_result",
          "data": {
            "text/plain": [
              "<Axes: >"
            ]
          },
          "metadata": {},
          "execution_count": 18
        },
        {
          "output_type": "display_data",
          "data": {
            "text/plain": [
              "<Figure size 640x480 with 1 Axes>"
            ],
            "image/png": "[encoded data removed]"
          },
          "metadata": {}
        }
      ],
      "source": [
        "booking_pd[\"lead_time\"].hist()"
      ]
    },
    {
      "cell_type": "code",
      "execution_count": 19,
      "id": "4f45c36d-9497-4a30-a9a7-ce2152d0601d",
      "metadata": {
        "colab": {
          "base_uri": "https://localhost:8080/",
          "height": 447
        },
        "id": "4f45c36d-9497-4a30-a9a7-ce2152d0601d",
        "outputId": "575b00e3-f5fd-4cc7-f75b-3e3350633e19"
      },
      "outputs": [
        {
          "output_type": "execute_result",
          "data": {
            "text/plain": [
              "<Axes: >"
            ]
          },
          "metadata": {},
          "execution_count": 19
        },
        {
          "output_type": "display_data",
          "data": {
            "text/plain": [
              "<Figure size 640x480 with 1 Axes>"
            ],
            "image/png": "[encoded data removed]"
          },
          "metadata": {}
        }
      ],
      "source": [
        "booking_pd[\"avg_price_per_room\"].hist(bins=150)"
      ]
    },
    {
      "cell_type": "code",
      "execution_count": 20,
      "id": "0cb84766-cc88-4ebd-a445-ac0c80f9ddae",
      "metadata": {
        "colab": {
          "base_uri": "https://localhost:8080/",
          "height": 447
        },
        "id": "0cb84766-cc88-4ebd-a445-ac0c80f9ddae",
        "outputId": "f4f616a0-ad8b-4a7c-c339-12868d9bdda1"
      },
      "outputs": [
        {
          "output_type": "execute_result",
          "data": {
            "text/plain": [
              "<Axes: >"
            ]
          },
          "metadata": {},
          "execution_count": 20
        },
        {
          "output_type": "display_data",
          "data": {
            "text/plain": [
              "<Figure size 640x480 with 1 Axes>"
            ],
            "image/png": "[encoded data removed]"
          },
          "metadata": {}
        }
      ],
      "source": [
        "booking_pd[\"stays_in_week_nights\"].hist(bins=50)"
      ]
    },
    {
      "cell_type": "markdown",
      "id": "a9b9741b-79b5-4028-9b82-4feca98041aa",
      "metadata": {
        "id": "a9b9741b-79b5-4028-9b82-4feca98041aa"
      },
      "source": [
        "# Data cleaning and merging"
      ]
    },
    {
      "cell_type": "code",
      "execution_count": 21,
      "id": "b20381a9-31b2-4467-bccc-6800544c0d69",
      "metadata": {
        "id": "b20381a9-31b2-4467-bccc-6800544c0d69"
      },
      "outputs": [],
      "source": [
        "def get_shared_cols(df1, df2):\n",
        "    cols1 = set(df1.dtypes)\n",
        "    cols2 = set(df2.dtypes)\n",
        "    intersection = cols1.intersection(cols2)\n",
        "    print(list(intersection))\n",
        "def get_unique_cols(df1, df2):\n",
        "    cols1 = set(df1.dtypes)\n",
        "    cols2 = set(df2.dtypes)\n",
        "    unique = cols1 - cols2\n",
        "    print(list(unique))\n"
      ]
    },
    {
      "cell_type": "code",
      "execution_count": 22,
      "id": "ba69ce85-4977-4d78-a066-e391ac60274d",
      "metadata": {
        "colab": {
          "base_uri": "https://localhost:8080/"
        },
        "id": "ba69ce85-4977-4d78-a066-e391ac60274d",
        "outputId": "1c137c09-49b0-4f45-862c-e524efc3bb48"
      },
      "outputs": [
        {
          "output_type": "stream",
          "name": "stdout",
          "text": [
            "Reservations:\n",
            "root\n",
            " |-- Booking_ID: string (nullable = true)\n",
            " |-- stays_in_weekend_nights: integer (nullable = true)\n",
            " |-- stays_in_week_nights: integer (nullable = true)\n",
            " |-- lead_time: integer (nullable = true)\n",
            " |-- arrival_year: integer (nullable = true)\n",
            " |-- arrival_month: integer (nullable = true)\n",
            " |-- arrival_date: integer (nullable = true)\n",
            " |-- market_segment_type: string (nullable = true)\n",
            " |-- avg_price_per_room: double (nullable = true)\n",
            " |-- booking_status: string (nullable = true)\n",
            "\n",
            "Bookings\n",
            "root\n",
            " |-- hotel: string (nullable = true)\n",
            " |-- booking_status: integer (nullable = true)\n",
            " |-- lead_time: integer (nullable = true)\n",
            " |-- arrival_year: integer (nullable = true)\n",
            " |-- arrival_month: string (nullable = true)\n",
            " |-- arrival_date_week_number: integer (nullable = true)\n",
            " |-- arrival_date_day_of_month: integer (nullable = true)\n",
            " |-- stays_in_weekend_nights: integer (nullable = true)\n",
            " |-- stays_in_week_nights: integer (nullable = true)\n",
            " |-- market_segment_type: string (nullable = true)\n",
            " |-- country: string (nullable = true)\n",
            " |-- avg_price_per_room: double (nullable = true)\n",
            " |-- email: string (nullable = true)\n",
            "\n"
          ]
        }
      ],
      "source": [
        "print(\"Reservations:\")\n",
        "reservations.printSchema()\n",
        "print(\"Bookings\")\n",
        "bookings.printSchema()"
      ]
    },
    {
      "cell_type": "code",
      "execution_count": 23,
      "id": "c02e67f7-4c1d-4813-b09c-8b3496694c1d",
      "metadata": {
        "colab": {
          "base_uri": "https://localhost:8080/"
        },
        "id": "c02e67f7-4c1d-4813-b09c-8b3496694c1d",
        "outputId": "0f25ce02-8515-4f15-e4a8-9008c8043e30"
      },
      "outputs": [
        {
          "output_type": "stream",
          "name": "stdout",
          "text": [
            "Shared columns\n",
            "[('stays_in_weekend_nights', 'int'), ('market_segment_type', 'string'), ('arrival_year', 'int'), ('stays_in_week_nights', 'int'), ('avg_price_per_room', 'double'), ('lead_time', 'int')]\n",
            "Unique columns\n",
            "[('Booking_ID', 'string'), ('booking_status', 'string'), ('arrival_month', 'int'), ('arrival_date', 'int')]\n",
            "[('email', 'string'), ('hotel', 'string'), ('country', 'string'), ('arrival_month', 'string'), ('arrival_date_week_number', 'int'), ('arrival_date_day_of_month', 'int'), ('booking_status', 'int')]\n"
          ]
        }
      ],
      "source": [
        "print(\"Shared columns\")\n",
        "get_shared_cols(reservations, bookings)\n",
        "print(\"Unique columns\")\n",
        "get_unique_cols(reservations, bookings)\n",
        "get_unique_cols(bookings, reservations)"
      ]
    },
    {
      "cell_type": "markdown",
      "id": "11fa206b-4d6b-44ee-92ff-ecdf28124a0e",
      "metadata": {
        "id": "11fa206b-4d6b-44ee-92ff-ecdf28124a0e"
      },
      "source": [
        "Booking_ID can be dropped, as it does not have a matching ID in the bookings dataframe.\n",
        "arrival_date_week_number can be dropped because it is redundant with arrival month date and year."
      ]
    },
    {
      "cell_type": "code",
      "execution_count": 24,
      "id": "34807388-978c-465d-8a54-0163a83bba21",
      "metadata": {
        "id": "34807388-978c-465d-8a54-0163a83bba21"
      },
      "outputs": [],
      "source": [
        "reservations_new = reservations.drop(\"Booking_ID\")\n",
        "bookings_new = bookings.drop(\"arrival_date_week_number\")"
      ]
    },
    {
      "cell_type": "markdown",
      "id": "29cb9a0e-6090-4eb1-997f-4c9e82dbfeb5",
      "metadata": {
        "id": "29cb9a0e-6090-4eb1-997f-4c9e82dbfeb5"
      },
      "source": [
        "We can also see that booking_status is shared between the dataframes but has different types. The reservations dataframe uses a string, \"Not_Canceled\" and \"Canceled\" and bookings uses an int, 0 and 1. We will make reservations conform to bookings format."
      ]
    },
    {
      "cell_type": "code",
      "execution_count": 25,
      "id": "fc1927cc-4de6-4980-85bc-2e789e1d9003",
      "metadata": {
        "colab": {
          "base_uri": "https://localhost:8080/"
        },
        "id": "fc1927cc-4de6-4980-85bc-2e789e1d9003",
        "outputId": "4a538327-027f-414f-d0fa-0828e81307d4"
      },
      "outputs": [
        {
          "output_type": "stream",
          "name": "stdout",
          "text": [
            "+--------------+\n",
            "|booking_status|\n",
            "+--------------+\n",
            "|  Not_Canceled|\n",
            "|  Not_Canceled|\n",
            "|      Canceled|\n",
            "|      Canceled|\n",
            "|      Canceled|\n",
            "|      Canceled|\n",
            "|  Not_Canceled|\n",
            "|  Not_Canceled|\n",
            "|  Not_Canceled|\n",
            "|  Not_Canceled|\n",
            "+--------------+\n",
            "only showing top 10 rows\n",
            "\n",
            "+--------------+\n",
            "|booking_status|\n",
            "+--------------+\n",
            "|             0|\n",
            "|             0|\n",
            "|             1|\n",
            "|             1|\n",
            "|             1|\n",
            "|             1|\n",
            "|             0|\n",
            "|             0|\n",
            "|             0|\n",
            "|             0|\n",
            "+--------------+\n",
            "only showing top 10 rows\n",
            "\n"
          ]
        }
      ],
      "source": [
        "from pyspark.sql.functions import when,col\n",
        "reservations_new.select(\"booking_status\").show(10)\n",
        "reservations_new = reservations_new.withColumn(\"booking_status\", when(col(\"booking_status\") == \"Canceled\", 1).otherwise(0))\n",
        "reservations_new.select(\"booking_status\").show(10)"
      ]
    },
    {
      "cell_type": "markdown",
      "id": "16171a95-6504-4902-a9ef-57997808ebd9",
      "metadata": {
        "id": "16171a95-6504-4902-a9ef-57997808ebd9"
      },
      "source": [
        "The same problem exists for arrival_month, in bookings it is a string, and in reservations it is an int. We will make bookings conform to reservations."
      ]
    },
    {
      "cell_type": "code",
      "execution_count": 26,
      "id": "99c7270d-d7d7-4422-ac27-3e21d5af3cb3",
      "metadata": {
        "id": "99c7270d-d7d7-4422-ac27-3e21d5af3cb3"
      },
      "outputs": [],
      "source": [
        "bookings_new = bookings_new.withColumn(\"arrival_month\",\n",
        "    when(col(\"arrival_month\") == \"January\", 1)\n",
        "    .when(col(\"arrival_month\") == \"February\", 2)\n",
        "    .when(col(\"arrival_month\") == \"March\", 3)\n",
        "    .when(col(\"arrival_month\") == \"April\", 4)\n",
        "    .when(col(\"arrival_month\") == \"May\", 5)\n",
        "    .when(col(\"arrival_month\") == \"June\", 6)\n",
        "    .when(col(\"arrival_month\") == \"July\", 7)\n",
        "    .when(col(\"arrival_month\") == \"August\", 8)\n",
        "    .when(col(\"arrival_month\") == \"September\", 9)\n",
        "    .when(col(\"arrival_month\") == \"October\", 10)\n",
        "    .when(col(\"arrival_month\") == \"November\", 11)\n",
        "    .when(col(\"arrival_month\") == \"December\", 12)\n",
        "    .otherwise(0))"
      ]
    },
    {
      "cell_type": "markdown",
      "id": "f747c075-cc7d-4f98-95cc-3a2f986882c4",
      "metadata": {
        "id": "f747c075-cc7d-4f98-95cc-3a2f986882c4"
      },
      "source": [
        "The column for arrival day of the month is named differently in reservations and bookings. We have renamed both to \"arrival_day\" to make the column more clear."
      ]
    },
    {
      "cell_type": "code",
      "execution_count": 27,
      "id": "3c2727a5-7565-468d-993b-b8aaa7d98924",
      "metadata": {
        "id": "3c2727a5-7565-468d-993b-b8aaa7d98924"
      },
      "outputs": [],
      "source": [
        "reservations_new = reservations_new.withColumnRenamed(\"arrival_date\", \"arrival_day\")\n",
        "bookings_new = bookings_new.withColumnRenamed(\"arrival_date_day_of_month\", \"arrival_day\")"
      ]
    },
    {
      "cell_type": "markdown",
      "id": "c6642913-3380-459e-bd0b-03649080d7a8",
      "metadata": {
        "id": "c6642913-3380-459e-bd0b-03649080d7a8"
      },
      "source": [
        "TODO: make the arrival month, day, year a single column, it doesnt need to be three. Make stays_in_weekend_nights and stays_in_weekday_nights a single column as well, its more informative. Merge the new tables into one, fix any resulting problem"
      ]
    },
    {
      "cell_type": "code",
      "source": [
        "from pyspark.sql.functions import concat_ws, col, to_date\n",
        "\n",
        "reservations_new = reservations_new.withColumn(\n",
        "    \"arrival_date\",\n",
        "    to_date(concat_ws(\"-\",\n",
        "        col(\"arrival_year\").cast(\"string\"),\n",
        "        col(\"arrival_month\").cast(\"string\"),\n",
        "        col(\"arrival_day\").cast(\"string\")\n",
        "    ), \"yyyy-M-d\")\n",
        ")\n",
        "\n",
        "bookings_new = bookings_new.withColumn(\n",
        "    \"arrival_date\",\n",
        "    to_date(concat_ws(\"-\",\n",
        "        col(\"arrival_year\").cast(\"string\"),\n",
        "        col(\"arrival_month\").cast(\"string\"),\n",
        "        col(\"arrival_day\").cast(\"string\")\n",
        "    ), \"yyyy-M-d\")\n",
        ")\n",
        "\n",
        "reservations_new = reservations_new.drop(\"arrival_year\", \"arrival_month\", \"arrival_day\")\n",
        "bookings_new = bookings_new.drop(\"arrival_year\", \"arrival_month\", \"arrival_day\")\n"
      ],
      "metadata": {
        "id": "LJcR4jajfT6P"
      },
      "id": "LJcR4jajfT6P",
      "execution_count": 28,
      "outputs": []
    },
    {
      "cell_type": "code",
      "source": [
        "from pyspark.sql.functions import expr\n",
        "\n",
        "reservations_new = reservations_new.withColumn(\n",
        "    \"total_stay_nights\",\n",
        "    (col(\"stays_in_weekend_nights\") + col(\"stays_in_week_nights\"))\n",
        ")\n",
        "\n",
        "bookings_new = bookings_new.withColumn(\n",
        "    \"total_stay_nights\",\n",
        "    (col(\"stays_in_weekend_nights\") + col(\"stays_in_week_nights\"))\n",
        ")\n",
        "\n",
        "reservations_new = reservations_new.drop(\"stays_in_weekend_nights\", \"stays_in_week_nights\")\n",
        "bookings_new = bookings_new.drop(\"stays_in_weekend_nights\", \"stays_in_week_nights\")\n"
      ],
      "metadata": {
        "id": "oZ7Rr1SvfZxg"
      },
      "id": "oZ7Rr1SvfZxg",
      "execution_count": 29,
      "outputs": []
    },
    {
      "cell_type": "code",
      "source": [
        "shared_cols = [col_name for col_name in reservations_new.columns if col_name in bookings_new.columns]\n",
        "\n",
        "reservations_final = reservations_new.select(shared_cols)\n",
        "bookings_final = bookings_new.select(shared_cols)\n"
      ],
      "metadata": {
        "id": "IUphQ7F0fe53"
      },
      "id": "IUphQ7F0fe53",
      "execution_count": 30,
      "outputs": []
    },
    {
      "cell_type": "code",
      "source": [
        "merged_df = reservations_final.unionByName(bookings_final)\n"
      ],
      "metadata": {
        "id": "sGiOhKF5fi7J"
      },
      "id": "sGiOhKF5fi7J",
      "execution_count": 31,
      "outputs": []
    },
    {
      "cell_type": "code",
      "source": [
        "print(\"Total rows after merge:\", merged_df.count())\n",
        "print(\"Distinct rows:\", merged_df.distinct().count())\n",
        "\n",
        "# Check nulls in key columns\n",
        "merged_df.select([\n",
        "    (col(c).isNull().cast(\"int\").alias(c)) for c in merged_df.columns\n",
        "]).agg(*[F.sum(col(c)).alias(c) for c in merged_df.columns]).show()"
      ],
      "metadata": {
        "colab": {
          "base_uri": "https://localhost:8080/"
        },
        "id": "E-97YiiyflaR",
        "outputId": "12e476cb-b21a-4ae9-f2e6-cb958990749a"
      },
      "id": "E-97YiiyflaR",
      "execution_count": 32,
      "outputs": [
        {
          "output_type": "stream",
          "name": "stdout",
          "text": [
            "Total rows after merge: 114978\n",
            "Distinct rows: 75698\n",
            "+---------+-------------------+------------------+--------------+------------+-----------------+\n",
            "|lead_time|market_segment_type|avg_price_per_room|booking_status|arrival_date|total_stay_nights|\n",
            "+---------+-------------------+------------------+--------------+------------+-----------------+\n",
            "|        0|                  0|                 0|             0|          37|                0|\n",
            "+---------+-------------------+------------------+--------------+------------+-----------------+\n",
            "\n"
          ]
        }
      ]
    },
    {
      "cell_type": "code",
      "source": [
        "merged_df = merged_df.na.drop(subset=[\"arrival_date\"])\n"
      ],
      "metadata": {
        "id": "pUyRugxlf0SX"
      },
      "id": "pUyRugxlf0SX",
      "execution_count": 33,
      "outputs": []
    },
    {
      "cell_type": "code",
      "source": [
        "merged_df = merged_df.dropDuplicates()\n"
      ],
      "metadata": {
        "id": "8Jthzdx9f3aG"
      },
      "id": "8Jthzdx9f3aG",
      "execution_count": 34,
      "outputs": []
    },
    {
      "cell_type": "code",
      "source": [
        "print(\"Rows after cleaning:\", merged_df.count())\n",
        "\n",
        "merged_df.select([\n",
        "    F.sum(col(c).isNull().cast(\"int\")).alias(c) for c in merged_df.columns\n",
        "]).show()\n",
        "\n",
        "merged_df.printSchema()\n",
        "merged_df.show(5)\n"
      ],
      "metadata": {
        "colab": {
          "base_uri": "https://localhost:8080/"
        },
        "id": "PWjUtOKUf5NM",
        "outputId": "d0ad50e3-3b8d-4b2e-f6a7-333f38c38242"
      },
      "id": "PWjUtOKUf5NM",
      "execution_count": 35,
      "outputs": [
        {
          "output_type": "stream",
          "name": "stdout",
          "text": [
            "Rows after cleaning: 75663\n",
            "+---------+-------------------+------------------+--------------+------------+-----------------+\n",
            "|lead_time|market_segment_type|avg_price_per_room|booking_status|arrival_date|total_stay_nights|\n",
            "+---------+-------------------+------------------+--------------+------------+-----------------+\n",
            "|        0|                  0|                 0|             0|           0|                0|\n",
            "+---------+-------------------+------------------+--------------+------------+-----------------+\n",
            "\n",
            "root\n",
            " |-- lead_time: integer (nullable = true)\n",
            " |-- market_segment_type: string (nullable = true)\n",
            " |-- avg_price_per_room: double (nullable = true)\n",
            " |-- booking_status: integer (nullable = true)\n",
            " |-- arrival_date: date (nullable = true)\n",
            " |-- total_stay_nights: integer (nullable = true)\n",
            "\n",
            "+---------+-------------------+------------------+--------------+------------+-----------------+\n",
            "|lead_time|market_segment_type|avg_price_per_room|booking_status|arrival_date|total_stay_nights|\n",
            "+---------+-------------------+------------------+--------------+------------+-----------------+\n",
            "|       56|            Offline|             120.0|             0|  2018-06-08|                1|\n",
            "|        2|             Online|             197.0|             0|  2018-05-27|                1|\n",
            "|       36|             Online|              88.0|             1|  2018-12-08|                3|\n",
            "|       21|             Online|            124.25|             0|  2018-08-29|                4|\n",
            "|        0|             Online|            159.75|             0|  2017-10-07|                4|\n",
            "+---------+-------------------+------------------+--------------+------------+-----------------+\n",
            "only showing top 5 rows\n",
            "\n"
          ]
        }
      ]
    },
    {
      "cell_type": "markdown",
      "source": [
        "Testing that merge data saved"
      ],
      "metadata": {
        "id": "kDhrDO-Hilzd"
      },
      "id": "kDhrDO-Hilzd"
    },
    {
      "cell_type": "code",
      "source": [
        "# Save the cleaned, unified dataset\n",
        "merged_df.write.option(\"header\", True).csv(\"/data/cleaned_merged_bookings.csv\", mode=\"overwrite\")\n",
        "\n",
        "print(\"Cleaned dataset saved to 'data/cleaned_merged_bookings.csv'\")\n"
      ],
      "metadata": {
        "colab": {
          "base_uri": "https://localhost:8080/"
        },
        "id": "Scfx_EbtiRFX",
        "outputId": "79209a39-799c-4b9f-997f-df5ec473e8d0"
      },
      "id": "Scfx_EbtiRFX",
      "execution_count": 39,
      "outputs": [
        {
          "output_type": "stream",
          "name": "stdout",
          "text": [
            "Cleaned dataset saved to 'data/cleaned_merged_bookings.csv'\n"
          ]
        }
      ]
    },
    {
      "cell_type": "code",
      "source": [
        "# Load the saved CSV back into Spark\n",
        "merged_check = spark.read.option(\"header\", True).option(\"inferSchema\", True).csv(\"data/cleaned_merged_bookings.csv\")\n",
        "\n",
        "# Count rows and compare\n",
        "print(\"Original merged_df count:\", merged_df.count())\n",
        "print(\"Reloaded merged_check count:\", merged_check.count())\n"
      ],
      "metadata": {
        "colab": {
          "base_uri": "https://localhost:8080/"
        },
        "id": "17VB-U59ipNa",
        "outputId": "e2815bfd-7d6d-4714-b515-29b257764f9d"
      },
      "id": "17VB-U59ipNa",
      "execution_count": 40,
      "outputs": [
        {
          "output_type": "stream",
          "name": "stdout",
          "text": [
            "Original merged_df count: 75663\n",
            "Reloaded merged_check count: 75663\n"
          ]
        }
      ]
    },
    {
      "cell_type": "code",
      "source": [
        "print(\"Original Schema:\")\n",
        "merged_df.printSchema()\n",
        "\n",
        "print(\"Reloaded Schema:\")\n",
        "merged_check.printSchema()\n"
      ],
      "metadata": {
        "colab": {
          "base_uri": "https://localhost:8080/"
        },
        "id": "cnljH3zNiuVA",
        "outputId": "7b703794-6c2e-4622-9284-a93b5066202e"
      },
      "id": "cnljH3zNiuVA",
      "execution_count": 41,
      "outputs": [
        {
          "output_type": "stream",
          "name": "stdout",
          "text": [
            "Original Schema:\n",
            "root\n",
            " |-- lead_time: integer (nullable = true)\n",
            " |-- market_segment_type: string (nullable = true)\n",
            " |-- avg_price_per_room: double (nullable = true)\n",
            " |-- booking_status: integer (nullable = true)\n",
            " |-- arrival_date: date (nullable = true)\n",
            " |-- total_stay_nights: integer (nullable = true)\n",
            "\n",
            "Reloaded Schema:\n",
            "root\n",
            " |-- lead_time: integer (nullable = true)\n",
            " |-- market_segment_type: string (nullable = true)\n",
            " |-- avg_price_per_room: double (nullable = true)\n",
            " |-- booking_status: integer (nullable = true)\n",
            " |-- arrival_date: date (nullable = true)\n",
            " |-- total_stay_nights: integer (nullable = true)\n",
            "\n"
          ]
        }
      ]
    },
    {
      "cell_type": "markdown",
      "source": [],
      "metadata": {
        "id": "lPFUb7RKieM_"
      },
      "id": "lPFUb7RKieM_"
    }
  ],
  "metadata": {
    "kernelspec": {
      "display_name": "Python 3 (ipykernel)",
      "language": "python",
      "name": "python3"
    },
    "language_info": {
      "codemirror_mode": {
        "name": "ipython",
        "version": 3
      },
      "file_extension": ".py",
      "mimetype": "text/x-python",
      "name": "python",
      "nbconvert_exporter": "python",
      "pygments_lexer": "ipython3",
      "version": "3.13.7"
    },
    "colab": {
      "provenance": []
    }
  },
  "nbformat": 4,
  "nbformat_minor": 5
}